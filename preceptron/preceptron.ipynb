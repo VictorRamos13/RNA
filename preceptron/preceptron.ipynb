{
 "cells": [
  {
   "cell_type": "code",
   "execution_count": 1,
   "id": "0aa95ea0",
   "metadata": {},
   "outputs": [],
   "source": [
    "#importacao de pacotes\n",
    "import numpy as np\n",
    "import pandas as pd\n",
    "import pygwalker  as pyg #exploracao de dados facilmente\n",
    "import matplotlib.pyplot as plt\n",
    "from sklearn.metrics import confusion_matrix, classification_report #calculo das metricas de qualidade (implementacao de ML)\n",
    "import seaborn as sns #grafico\n",
    "import plotly.graph_objects as go #grafico 3d"
   ]
  },
  {
   "cell_type": "code",
   "execution_count": 2,
   "id": "9b1ed903",
   "metadata": {},
   "outputs": [],
   "source": [
    "#funcoes\n",
    "#degrau bipolar\n",
    "def degrauBipolar(u):\n",
    "    return 1 if u >= 0 else -1\n",
    "\n",
    "#funcao que classifica a amostra com base na rede ja treinada\n",
    "def previsao(w, x):\n",
    "    u = np.dot(w.T, x)\n",
    "    yhat = degrauBipolar(u)\n",
    "    return yhat"
   ]
  },
  {
   "cell_type": "markdown",
   "id": "1ebdfe64",
   "metadata": {},
   "source": [
    "# IMPLEMENTAÇÃO DO PERCEPTRON"
   ]
  },
  {
   "cell_type": "code",
   "execution_count": 3,
   "id": "2014327c",
   "metadata": {},
   "outputs": [],
   "source": [
    "#PASSO 1: OBTER O CONJUNTO DE AMOSTRAS DE TREINAMENTO X\n",
    "\n",
    "#carregar a tabela de dados\n",
    "data = pd.read_csv(\"dataset_iris.csv\", sep=\";\")\n",
    "\n",
    "#analise exploratoria de dados\n",
    "#walker = pyg.walk(data)"
   ]
  },
  {
   "cell_type": "code",
   "execution_count": 4,
   "id": "f3e9fb9a",
   "metadata": {},
   "outputs": [
    {
     "name": "stdout",
     "output_type": "stream",
     "text": [
      "30\n",
      "3\n",
      "[[-0.6508  0.1097  4.0009]\n",
      " [-1.4492  0.8896  4.4005]\n",
      " [ 2.085   0.6876 12.071 ]\n",
      " [ 0.2626  1.1476  7.7985]\n",
      " [ 0.6418  1.0234  7.0427]\n",
      " [ 0.2569  0.673   8.3265]\n",
      " [ 1.1155  0.6043  7.4446]\n",
      " [ 0.0914  0.3399  7.0677]\n",
      " [ 0.0121  0.5256  4.6316]\n",
      " [-0.0429  0.466   5.4323]\n",
      " [ 0.434   0.687   8.2287]\n",
      " [ 0.2735  1.0287  7.1934]\n",
      " [ 0.4839  0.4851  7.485 ]\n",
      " [ 0.4089 -0.1267  5.5019]\n",
      " [ 1.4391  0.1614  8.5843]\n",
      " [-0.9115 -0.1973  2.1962]\n",
      " [ 0.3654  1.0475  7.4858]\n",
      " [ 0.2144  0.7515  7.1699]\n",
      " [ 0.2013  1.0014  6.5489]\n",
      " [ 0.6483  0.2183  5.8991]\n",
      " [-0.1147  0.2242  7.2435]\n",
      " [-0.797   0.8795  3.8762]\n",
      " [-1.0625  0.6366  2.4707]\n",
      " [ 0.5307  0.1285  5.6883]\n",
      " [-1.22    0.7777  1.7252]\n",
      " [ 0.3957  0.1076  5.6623]\n",
      " [-0.1013  0.5989  7.1812]\n",
      " [ 2.4482  0.9455 11.2095]\n",
      " [ 2.0149  0.6192 10.9263]\n",
      " [ 0.2012  0.2611  5.4631]]\n"
     ]
    }
   ],
   "source": [
    "#quantiadade de elementos na amostra\n",
    "n_sample = data.shape[0] #quantidade de amostras\n",
    "print(n_sample)\n",
    "\n",
    "#quantidade variaveis de entrada (subtrair a coluna de tipo)\n",
    "n_variables = data.shape[1] - 1\n",
    "print(n_variables)\n",
    "\n",
    "#separando os dados contendo apenas as variaveis de entrada\n",
    "x = data.iloc[:, 0:n_variables].values #localizar pelo indice - pega todas as linhas e a coluna de 0 ate n_variables\n",
    "print(x)"
   ]
  },
  {
   "cell_type": "code",
   "execution_count": 5,
   "id": "e26793ea",
   "metadata": {},
   "outputs": [
    {
     "name": "stdout",
     "output_type": "stream",
     "text": [
      "[[-0.6508  0.1097  4.0009 -1.    ]\n",
      " [-1.4492  0.8896  4.4005 -1.    ]\n",
      " [ 2.085   0.6876 12.071  -1.    ]\n",
      " [ 0.2626  1.1476  7.7985 -1.    ]\n",
      " [ 0.6418  1.0234  7.0427 -1.    ]\n",
      " [ 0.2569  0.673   8.3265 -1.    ]\n",
      " [ 1.1155  0.6043  7.4446 -1.    ]\n",
      " [ 0.0914  0.3399  7.0677 -1.    ]\n",
      " [ 0.0121  0.5256  4.6316 -1.    ]\n",
      " [-0.0429  0.466   5.4323 -1.    ]\n",
      " [ 0.434   0.687   8.2287 -1.    ]\n",
      " [ 0.2735  1.0287  7.1934 -1.    ]\n",
      " [ 0.4839  0.4851  7.485  -1.    ]\n",
      " [ 0.4089 -0.1267  5.5019 -1.    ]\n",
      " [ 1.4391  0.1614  8.5843 -1.    ]\n",
      " [-0.9115 -0.1973  2.1962 -1.    ]\n",
      " [ 0.3654  1.0475  7.4858 -1.    ]\n",
      " [ 0.2144  0.7515  7.1699 -1.    ]\n",
      " [ 0.2013  1.0014  6.5489 -1.    ]\n",
      " [ 0.6483  0.2183  5.8991 -1.    ]\n",
      " [-0.1147  0.2242  7.2435 -1.    ]\n",
      " [-0.797   0.8795  3.8762 -1.    ]\n",
      " [-1.0625  0.6366  2.4707 -1.    ]\n",
      " [ 0.5307  0.1285  5.6883 -1.    ]\n",
      " [-1.22    0.7777  1.7252 -1.    ]\n",
      " [ 0.3957  0.1076  5.6623 -1.    ]\n",
      " [-0.1013  0.5989  7.1812 -1.    ]\n",
      " [ 2.4482  0.9455 11.2095 -1.    ]\n",
      " [ 2.0149  0.6192 10.9263 -1.    ]\n",
      " [ 0.2012  0.2611  5.4631 -1.    ]]\n"
     ]
    }
   ],
   "source": [
    "#inserindo a coluna do bias\n",
    "bias = np.ones((n_sample, 1)) * -1 #repete a quantidade de valores quantas vezes quiser\n",
    "#quero 30 linhas e 1 coluna (o 1 fala que cria n_sample colunas) o 0 fala pra criar n_sample linhas\n",
    "x = np.hstack((x, bias)) #concatenar x com bias\n",
    "print(x)"
   ]
  },
  {
   "cell_type": "code",
   "execution_count": 6,
   "id": "8117ec57",
   "metadata": {},
   "outputs": [
    {
     "name": "stdout",
     "output_type": "stream",
     "text": [
      "[-1. -1. -1.  1.  1. -1.  1. -1.  1.  1. -1.  1. -1. -1. -1. -1.  1.  1.\n",
      "  1.  1. -1.  1.  1.  1.  1. -1. -1.  1. -1.  1.]\n",
      "-1: 14\n",
      "1: 16\n"
     ]
    }
   ],
   "source": [
    "#PASSO 2: DO VETOR DE SAIDAS Y, ASSOCIAR A SAIDA ESPERADA Y PARA CADA X\n",
    "y = data.iloc[:, n_variables].values #pegando todas as linhas da ultima coluna\n",
    "print(y)\n",
    "\n",
    "#contar quantas amostras de cada classe existe no dataset\n",
    "print(f\"-1: {(y == -1).sum()}\")\n",
    "print(f\"1: {(y == 1).sum()}\")"
   ]
  },
  {
   "cell_type": "code",
   "execution_count": 7,
   "id": "7edbe312",
   "metadata": {},
   "outputs": [
    {
     "name": "stdout",
     "output_type": "stream",
     "text": [
      "[ 0.96376607 -0.15072568  0.94030451  0.96028755]\n"
     ]
    }
   ],
   "source": [
    "#PASSO 3: INCIALIZAR O VETOR DE PESOS W COM VALORES ALETORIOS\n",
    "w = np.random.uniform(-1, 1, n_variables + 1) # +1 pq adicionou a coluna do bias n_variavles = 3\n",
    "print(w) #gera 4 pesos"
   ]
  },
  {
   "cell_type": "code",
   "execution_count": 8,
   "id": "0e8f6e89",
   "metadata": {},
   "outputs": [],
   "source": [
    "#PASSO 4: DEFINIR A TAXA DE APRENDIZAGEM (0 E 1)\n",
    "eta = 0.01 # numero magico 0.07\n",
    "\n",
    "#PASSO 5: CALCULAR O NUMERO DE AMOSTRAS EM X\n",
    "#ja foi feito e esta em n_sample\n",
    "\n",
    "#PASSO 6: DEFINIR A TOLERANCIA AO ERRO\n",
    "tolerancia = 0.01\n",
    "\n",
    "#PASSO 7: SETAR O MEDIO INICAL MAIOR QUE A TOLERANCIA\n",
    "erro_medio = tolerancia + 1\n",
    "\n",
    "#PASSO 8: CRIAR O VETOR QUEU IRA ARMAZENAR O ERRO E TODAS AS EPOCAS DE EPOCA A EPOCA\n",
    "erros_epocas = []\n",
    "\n",
    "#PASSO 9: INCIALIZA O CONTADOR DE EPOCAS\n",
    "epoca = 0\n",
    "\n",
    "#PASSO 10: DEFINE O MAXIMO DE EPOCAS\n",
    "maxepocas = 300"
   ]
  },
  {
   "cell_type": "code",
   "execution_count": 9,
   "id": "c70e7707",
   "metadata": {},
   "outputs": [],
   "source": [
    "#PASSO 11 E 12: SETA OS CRITERIOS DE PARADA\n",
    "criterio_erro = True\n",
    "criterio_epocas = True\n",
    "\n",
    "#PASSO 13: ENQUANTO O ERRO FOR MAIOR QUE A TOLERANCIA E O MAX_EPOCAS NAO FOR ATINGIDO, CONTINUE O TREINO\n",
    "while(criterio_erro and criterio_epocas):\n",
    "    #PASSO 14: SETA O ERRO DA EPOCA ATUAL COM ZERO NO INICIO DE CADA EPOCA\n",
    "    erro_atual = 0\n",
    "\n",
    "    #PASSO 15: INCREMENTA O CONTADOR DE OPCAS PARA SABER EM QUE EPOCA A RNA ESTA TREINANDO\n",
    "    epoca+= 1\n",
    "\n",
    "    #PASSO 16: EMBARALHA OS INDICES PARA BUSCAR AMOSTRAS ALEATORIAMENTE NO CONJUNTO X\n",
    "    indices_embaralhados = np.random.permutation(n_sample) #permuta todos os valores de 1 ate n_sample\n",
    "\n",
    "    #PASSO 17: PARA CADA AMOSTRA NO CONJUNTO X FACA\n",
    "    for i in range(n_sample):\n",
    "        #captura o indice da amostra a ser apresentada a RNA\n",
    "        indice_amostra = indices_embaralhados[i]\n",
    "        \n",
    "        #captura a amostra atual a ser apresentada a RNA\n",
    "        xi_amostra = x[indice_amostra, :] # uma linha\n",
    "\n",
    "        #PASSO 18: CALCULA O POTENCIA DE ATIVACAO U\n",
    "        u = np.dot(w.T, xi_amostra)\n",
    "\n",
    "        #PASSO 19: CALCULA A SAIDA PREVISTA COM BASE NA FUNCAO DE ATIVACAO\n",
    "        yhat = degrauBipolar(u)\n",
    "\n",
    "        #PASSO 20: CALCULA O ERRO ENTRE O VALOR ESPERADO E O VALOR PREVISTO\n",
    "        e = y[indice_amostra] - yhat #diferenca do que eu esperava do que previ\n",
    "\n",
    "        #PASSO 21: APLICAR A REGRA DE HEBB, ATUALIZANDO OS PESOS\n",
    "        w = w + ((eta * e) * xi_amostra)\n",
    "\n",
    "        #PASSO 22: ACUMULADOR DE ERROS DE TODAS AS MOSTRAS\n",
    "        erro_atual += np.abs(e)\n",
    "    #PASSO 23: CALCULO DO ERRO MEDIO DA EPOCA\n",
    "    erro_medio = erro_atual/n_sample\n",
    "\n",
    "    #PASSO 24: ARRMAZENA O ERRO MEDIO DA EPOCA ATUAL NO VETOR DE ERROS DE TODAS AS EPOCAS\n",
    "    erros_epocas.append(erro_medio)\n",
    "\n",
    "    #PASSO 25 E 26: VERIFICA E ATUALIZA OS CRITERIOS DE PARADA\n",
    "    criterio_erro = (erro_medio > tolerancia)\n",
    "    criterio_epocas = (epoca < maxepocas)"
   ]
  },
  {
   "cell_type": "code",
   "execution_count": 10,
   "id": "f2ca31a1",
   "metadata": {},
   "outputs": [
    {
     "data": {
      "image/png": "[encoded data removed]",
      "text/plain": [
       "<Figure size 400x400 with 1 Axes>"
      ]
     },
     "metadata": {},
     "output_type": "display_data"
    }
   ],
   "source": [
    "#plotando a convergencia do algoritmo com base no erro epoca a epoca\n",
    "plt.figure(figsize=(4, 4))\n",
    "plt.plot(erros_epocas[:maxepocas])\n",
    "plt.title('Convergência do erro')\n",
    "plt.xlabel('Épocas')\n",
    "plt.ylabel('Erro Médio')\n",
    "plt.grid(True)\n",
    "plt.show()"
   ]
  },
  {
   "cell_type": "code",
   "execution_count": 11,
   "id": "d37849eb",
   "metadata": {},
   "outputs": [
    {
     "name": "stdout",
     "output_type": "stream",
     "text": [
      "Conjunto de peso ideal de pesos w*\n",
      "[ 1.16825007  1.92517832 -0.52402149 -2.15971245]\n",
      "Épocas necessárias para convergir\n",
      "188\n"
     ]
    }
   ],
   "source": [
    "#exibindo os pesos calibrados pela Regra de Hebb\n",
    "print('Conjunto de peso ideal de pesos w*')\n",
    "print(w)\n",
    "\n",
    "print('Épocas necessárias para convergir')\n",
    "print(epoca)"
   ]
  },
  {
   "cell_type": "code",
   "execution_count": 12,
   "id": "a7355c39",
   "metadata": {},
   "outputs": [
    {
     "name": "stdout",
     "output_type": "stream",
     "text": [
      "[-1. -1. -1.  1.  1. -1.  1. -1.  1.  1. -1.  1. -1. -1. -1. -1.  1.  1.\n",
      "  1.  1. -1.  1.  1.  1.  1. -1. -1.  1. -1.  1.]\n"
     ]
    }
   ],
   "source": [
    "#cria um vetor para receber todas as prvisoes realizadas pela RNA\n",
    "yhat = np.zeros(n_sample)\n",
    "\n",
    "#armazenar todas as previsoes uma para cada amostra\n",
    "for i in range(n_sample):\n",
    "    yhat[i] = previsao(w, x[i, :])\n",
    "\n",
    "print(yhat)"
   ]
  },
  {
   "cell_type": "markdown",
   "id": "86df29c3",
   "metadata": {},
   "source": [
    "# ANÁLISE DA QUALIDADE DE CLASSIFICAÇÃO"
   ]
  },
  {
   "cell_type": "code",
   "execution_count": 13,
   "id": "cc2d9197",
   "metadata": {},
   "outputs": [
    {
     "name": "stdout",
     "output_type": "stream",
     "text": [
      "Matriz de Confusão: \n",
      "[[14  0]\n",
      " [ 0 16]]\n"
     ]
    },
    {
     "data": {
      "image/png": "[encoded data removed]",
      "text/plain": [
       "<Figure size 400x300 with 2 Axes>"
      ]
     },
     "metadata": {},
     "output_type": "display_data"
    }
   ],
   "source": [
    "#converter -1 em 0 para melhor visualizar a matriz de confusao\n",
    "yhat_display = np.where(yhat == -1, 0, yhat) #onde yhat for -1 troque por 0 e armazene em yhat\n",
    "y_display = np.where(y == -1, 0, y)\n",
    "\n",
    "#gera a matriz de confusao\n",
    "cm = confusion_matrix(y_display, yhat_display)\n",
    "print('Matriz de Confusão: ')\n",
    "print(cm)\n",
    "\n",
    "#plotar matriz de confusao crocante\n",
    "plt.figure(figsize=(4,3))\n",
    "sns.heatmap(cm, annot=True, fmt='d', cmap='Blues', #fmt calculo da diagonal\n",
    "            xticklabels=['Setosa', 'Versicolar'],\n",
    "            yticklabels=['Setosa', 'Versicolar'])\n",
    "plt.title('Matriz de Confusão')\n",
    "plt.xlabel('Valor real')\n",
    "plt.ylabel('Valor prediito')\n",
    "plt.show()"
   ]
  },
  {
   "cell_type": "code",
   "execution_count": 14,
   "id": "3323b531",
   "metadata": {},
   "outputs": [
    {
     "name": "stdout",
     "output_type": "stream",
     "text": [
      "Accuracy = 100.0 %\n"
     ]
    }
   ],
   "source": [
    "#calculo da accuracy\n",
    "accuracy = np.sum((yhat == y) / n_sample) * 100\n",
    "print(f\"Accuracy = {accuracy} %\")"
   ]
  },
  {
   "cell_type": "code",
   "execution_count": 15,
   "id": "028f1d4e",
   "metadata": {},
   "outputs": [
    {
     "data": {
      "image/png": "[encoded data removed]",
      "text/plain": [
       "<Figure size 400x400 with 1 Axes>"
      ]
     },
     "metadata": {},
     "output_type": "display_data"
    }
   ],
   "source": [
    "if cm.shape == (2, 2):\n",
    "   resultado = [cm[0, 0], cm[0, 1], cm[1, 1], cm[1, 0]]\n",
    "   labels = ['VV', 'VS', 'SS', 'SV']\n",
    "   colors = ['green', 'red', 'green', 'red']\n",
    "   \n",
    "   plt.figure(figsize=(4, 4))\n",
    "   plt.bar(labels, resultado, color=colors)\n",
    "   plt.xlabel('Previsões')\n",
    "   plt.ylabel('Quantidade')\n",
    "   plt.title('Resultado das Classificações')\n",
    "   plt.ylim(0, 20)\n",
    "   for i, v in enumerate(resultado):\n",
    "      plt.text(i, v + 0.2, str(v), ha='center')\n",
    "   plt.show()"
   ]
  },
  {
   "cell_type": "code",
   "execution_count": 16,
   "id": "e909c0ae",
   "metadata": {},
   "outputs": [
    {
     "data": {
      "application/vnd.plotly.v1+json": {
       "config": {
        "plotlyServerURL": "https://plot.ly"
       },
       "data": [
        {
         "colorscale": [
          [
           0,
           "rgb(0, 0, 0)"
          ],
          [
           0.09090909090909091,
           "rgb(16, 16, 16)"
          ],
          [
           0.18181818181818182,
           "rgb(38, 38, 38)"
          ],
          [
           0.2727272727272727,
           "rgb(59, 59, 59)"
          ],
          [
           0.36363636363636365,
           "rgb(81, 80, 80)"
          ],
          [
           0.45454545454545453,
           "rgb(102, 101, 101)"
          ],
          [
           0.5454545454545454,
           "rgb(124, 123, 122)"
          ],
          [
           0.6363636363636364,
           "rgb(146, 146, 145)"
          ],
          [
           0.7272727272727273,
           "rgb(171, 171, 170)"
          ],
          [
           0.8181818181818182,
           "rgb(197, 197, 195)"
          ],
          [
           0.9090909090909091,
           "rgb(224, 224, 223)"
          ],
          [
           1,
           "rgb(254, 254, 253)"
          ]
         ],
         "name": "Hiperplano",
         "opacity": 0.3,
         "showscale": false,
         "type": "surface",
         "x": {
          "bdata": "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",
          "dtype": "f8",
          "shape": "20, 20"
         },
         "y": {
          "bdata": "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",
          "dtype": "f8",
          "shape": "20, 20"
         },
         "z": {
          "bdata": "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",
          "dtype": "f8",
          "shape": "20, 20"
         }
        },
        {
         "marker": {
          "color": [
           "red",
           "red",
           "red",
           "blue",
           "blue",
           "red",
           "blue",
           "red",
           "blue",
           "blue",
           "red",
           "blue",
           "red",
           "red",
           "red",
           "red",
           "blue",
           "blue",
           "blue",
           "blue",
           "red",
           "blue",
           "blue",
           "blue",
           "blue",
           "red",
           "red",
           "blue",
           "red",
           "blue"
          ],
          "line": {
           "color": "white",
           "width": 1
          },
          "opacity": 0.8,
          "size": 8
         },
         "mode": "markers",
         "name": "Amostras",
         "type": "scatter3d",
         "x": {
          "bdata": "3pOHhVrT5L+rz9VW7C/3v65H4XoUrgBAkX77OnDO0D9hVFInoInkP+LplbIMcdA/DAIrhxbZ8T/1udqK/WW3P4C3QILix4g/SS7/If32pb8tsp3vp8bbPxsv3SQGgdE/nDOitDf43j/PZtXnaivaPxHHuriNBvc/XrpJDAIr7b9tVn2utmLXP1OWIY51ccs/h6dXyjLEyT/J5T+k377kPz7o2az6XL2/Gy/dJAaB6b8AAAAAAADxvySX/5B+++A/hetRuB6F87+lvcEXJlPZP3S1FfvL7rm/oImw4emVA0DmriXkgx4AQP5D+u3rwMk/",
          "dtype": "f8"
         },
         "y": {
          "bdata": "9wZfmEwVvD/ysFBrmnfsP+JYF7fRAOY/zTtO0ZFc8j9Wn6ut2F/wP/Cnxks3ieU/LSEf9GxW4z/+Q/rt68DVPxniWBe30eA/bef7qfHS3T+WQ4ts5/vlP71SliGOdfA/zojS3uAL3z8PnDOitDfAv/CFyVTBqMQ/NxrAWyBByb/D9Shcj8LwPz81XrpJDOg/L26jAbwF8D8awFsgQfHLP4qw4emVssw/vp8aL90k7D90RpT2Bl/kP6abxCCwcsA/pSxDHOvi6D+WsgxxrIu7P3xhMlUwKuM/qMZLN4lB7j/G3LWEfNDjPxIUP8bctdA/",
          "dtype": "f8"
         },
         "z": {
          "bdata": "/kP67esAEEAnMQisHJoRQDEIrBxaJChAi2zn+6kxH0AkKH6MuSscQLpJDAIrpyBA1zTvOEXHHUC+wRcmU0UcQEmdgCbChhJAQj7o2ay6FUC+MJkqGHUgQIMvTKYKxhxAcT0K16PwHUAZc9cS8gEWQAkbnl4pKyFANs07TtGRAUBTliGOdfEdQJJc/kP6rRxA/Bhz1xIyGkCbVZ+rrZgXQNNNYhBY+RxApgpGJXUCD0BO0ZFc/sMDQOJYF7fRwBZAfPKwUGua+z8ukKD4MaYWQAskKH6MuRxAJQaBlUNrJkDRkVz+Q9olQEMc6+I22hVA",
          "dtype": "f8"
         }
        }
       ],
       "layout": {
        "height": 600,
        "scene": {
         "xaxis": {
          "title": {
           "text": "x1"
          }
         },
         "yaxis": {
          "title": {
           "text": "x2"
          }
         },
         "zaxis": {
          "title": {
           "text": "x3"
          }
         }
        },
        "template": {
         "data": {
          "bar": [
           {
            "error_x": {
             "color": "#2a3f5f"
            },
            "error_y": {
             "color": "#2a3f5f"
            },
            "marker": {
             "line": {
              "color": "#E5ECF6",
              "width": 0.5
             },
             "pattern": {
              "fillmode": "overlay",
              "size": 10,
              "solidity": 0.2
             }
            },
            "type": "bar"
           }
          ],
          "barpolar": [
           {
            "marker": {
             "line": {
              "color": "#E5ECF6",
              "width": 0.5
             },
             "pattern": {
              "fillmode": "overlay",
              "size": 10,
              "solidity": 0.2
             }
            },
            "type": "barpolar"
           }
          ],
          "carpet": [
           {
            "aaxis": {
             "endlinecolor": "#2a3f5f",
             "gridcolor": "white",
             "linecolor": "white",
             "minorgridcolor": "white",
             "startlinecolor": "#2a3f5f"
            },
            "baxis": {
             "endlinecolor": "#2a3f5f",
             "gridcolor": "white",
             "linecolor": "white",
             "minorgridcolor": "white",
             "startlinecolor": "#2a3f5f"
            },
            "type": "carpet"
           }
          ],
          "choropleth": [
           {
            "colorbar": {
             "outlinewidth": 0,
             "ticks": ""
            },
            "type": "choropleth"
           }
          ],
          "contour": [
           {
            "colorbar": {
             "outlinewidth": 0,
             "ticks": ""
            },
            "colorscale": [
             [
              0,
              "#0d0887"
             ],
             [
              0.1111111111111111,
              "#46039f"
             ],
             [
              0.2222222222222222,
              "#7201a8"
             ],
             [
              0.3333333333333333,
              "#9c179e"
             ],
             [
              0.4444444444444444,
              "#bd3786"
             ],
             [
              0.5555555555555556,
              "#d8576b"
             ],
             [
              0.6666666666666666,
              "#ed7953"
             ],
             [
              0.7777777777777778,
              "#fb9f3a"
             ],
             [
              0.8888888888888888,
              "#fdca26"
             ],
             [
              1,
              "#f0f921"
             ]
            ],
            "type": "contour"
           }
          ],
          "contourcarpet": [
           {
            "colorbar": {
             "outlinewidth": 0,
             "ticks": ""
            },
            "type": "contourcarpet"
           }
          ],
          "heatmap": [
           {
            "colorbar": {
             "outlinewidth": 0,
             "ticks": ""
            },
            "colorscale": [
             [
              0,
              "#0d0887"
             ],
             [
              0.1111111111111111,
              "#46039f"
             ],
             [
              0.2222222222222222,
              "#7201a8"
             ],
             [
              0.3333333333333333,
              "#9c179e"
             ],
             [
              0.4444444444444444,
              "#bd3786"
             ],
             [
              0.5555555555555556,
              "#d8576b"
             ],
             [
              0.6666666666666666,
              "#ed7953"
             ],
             [
              0.7777777777777778,
              "#fb9f3a"
             ],
             [
              0.8888888888888888,
              "#fdca26"
             ],
             [
              1,
              "#f0f921"
             ]
            ],
            "type": "heatmap"
           }
          ],
          "histogram": [
           {
            "marker": {
             "pattern": {
              "fillmode": "overlay",
              "size": 10,
              "solidity": 0.2
             }
            },
            "type": "histogram"
           }
          ],
          "histogram2d": [
           {
            "colorbar": {
             "outlinewidth": 0,
             "ticks": ""
            },
            "colorscale": [
             [
              0,
              "#0d0887"
             ],
             [
              0.1111111111111111,
              "#46039f"
             ],
             [
              0.2222222222222222,
              "#7201a8"
             ],
             [
              0.3333333333333333,
              "#9c179e"
             ],
             [
              0.4444444444444444,
              "#bd3786"
             ],
             [
              0.5555555555555556,
              "#d8576b"
             ],
             [
              0.6666666666666666,
              "#ed7953"
             ],
             [
              0.7777777777777778,
              "#fb9f3a"
             ],
             [
              0.8888888888888888,
              "#fdca26"
             ],
             [
              1,
              "#f0f921"
             ]
            ],
            "type": "histogram2d"
           }
          ],
          "histogram2dcontour": [
           {
            "colorbar": {
             "outlinewidth": 0,
             "ticks": ""
            },
            "colorscale": [
             [
              0,
              "#0d0887"
             ],
             [
              0.1111111111111111,
              "#46039f"
             ],
             [
              0.2222222222222222,
              "#7201a8"
             ],
             [
              0.3333333333333333,
              "#9c179e"
             ],
             [
              0.4444444444444444,
              "#bd3786"
             ],
             [
              0.5555555555555556,
              "#d8576b"
             ],
             [
              0.6666666666666666,
              "#ed7953"
             ],
             [
              0.7777777777777778,
              "#fb9f3a"
             ],
             [
              0.8888888888888888,
              "#fdca26"
             ],
             [
              1,
              "#f0f921"
             ]
            ],
            "type": "histogram2dcontour"
           }
          ],
          "mesh3d": [
           {
            "colorbar": {
             "outlinewidth": 0,
             "ticks": ""
            },
            "type": "mesh3d"
           }
          ],
          "parcoords": [
           {
            "line": {
             "colorbar": {
              "outlinewidth": 0,
              "ticks": ""
             }
            },
            "type": "parcoords"
           }
          ],
          "pie": [
           {
            "automargin": true,
            "type": "pie"
           }
          ],
          "scatter": [
           {
            "fillpattern": {
             "fillmode": "overlay",
             "size": 10,
             "solidity": 0.2
            },
            "type": "scatter"
           }
          ],
          "scatter3d": [
           {
            "line": {
             "colorbar": {
              "outlinewidth": 0,
              "ticks": ""
             }
            },
            "marker": {
             "colorbar": {
              "outlinewidth": 0,
              "ticks": ""
             }
            },
            "type": "scatter3d"
           }
          ],
          "scattercarpet": [
           {
            "marker": {
             "colorbar": {
              "outlinewidth": 0,
              "ticks": ""
             }
            },
            "type": "scattercarpet"
           }
          ],
          "scattergeo": [
           {
            "marker": {
             "colorbar": {
              "outlinewidth": 0,
              "ticks": ""
             }
            },
            "type": "scattergeo"
           }
          ],
          "scattergl": [
           {
            "marker": {
             "colorbar": {
              "outlinewidth": 0,
              "ticks": ""
             }
            },
            "type": "scattergl"
           }
          ],
          "scattermap": [
           {
            "marker": {
             "colorbar": {
              "outlinewidth": 0,
              "ticks": ""
             }
            },
            "type": "scattermap"
           }
          ],
          "scattermapbox": [
           {
            "marker": {
             "colorbar": {
              "outlinewidth": 0,
              "ticks": ""
             }
            },
            "type": "scattermapbox"
           }
          ],
          "scatterpolar": [
           {
            "marker": {
             "colorbar": {
              "outlinewidth": 0,
              "ticks": ""
             }
            },
            "type": "scatterpolar"
           }
          ],
          "scatterpolargl": [
           {
            "marker": {
             "colorbar": {
              "outlinewidth": 0,
              "ticks": ""
             }
            },
            "type": "scatterpolargl"
           }
          ],
          "scatterternary": [
           {
            "marker": {
             "colorbar": {
              "outlinewidth": 0,
              "ticks": ""
             }
            },
            "type": "scatterternary"
           }
          ],
          "surface": [
           {
            "colorbar": {
             "outlinewidth": 0,
             "ticks": ""
            },
            "colorscale": [
             [
              0,
              "#0d0887"
             ],
             [
              0.1111111111111111,
              "#46039f"
             ],
             [
              0.2222222222222222,
              "#7201a8"
             ],
             [
              0.3333333333333333,
              "#9c179e"
             ],
             [
              0.4444444444444444,
              "#bd3786"
             ],
             [
              0.5555555555555556,
              "#d8576b"
             ],
             [
              0.6666666666666666,
              "#ed7953"
             ],
             [
              0.7777777777777778,
              "#fb9f3a"
             ],
             [
              0.8888888888888888,
              "#fdca26"
             ],
             [
              1,
              "#f0f921"
             ]
            ],
            "type": "surface"
           }
          ],
          "table": [
           {
            "cells": {
             "fill": {
              "color": "#EBF0F8"
             },
             "line": {
              "color": "white"
             }
            },
            "header": {
             "fill": {
              "color": "#C8D4E3"
             },
             "line": {
              "color": "white"
             }
            },
            "type": "table"
           }
          ]
         },
         "layout": {
          "annotationdefaults": {
           "arrowcolor": "#2a3f5f",
           "arrowhead": 0,
           "arrowwidth": 1
          },
          "autotypenumbers": "strict",
          "coloraxis": {
           "colorbar": {
            "outlinewidth": 0,
            "ticks": ""
           }
          },
          "colorscale": {
           "diverging": [
            [
             0,
             "#8e0152"
            ],
            [
             0.1,
             "#c51b7d"
            ],
            [
             0.2,
             "#de77ae"
            ],
            [
             0.3,
             "#f1b6da"
            ],
            [
             0.4,
             "#fde0ef"
            ],
            [
             0.5,
             "#f7f7f7"
            ],
            [
             0.6,
             "#e6f5d0"
            ],
            [
             0.7,
             "#b8e186"
            ],
            [
             0.8,
             "#7fbc41"
            ],
            [
             0.9,
             "#4d9221"
            ],
            [
             1,
             "#276419"
            ]
           ],
           "sequential": [
            [
             0,
             "#0d0887"
            ],
            [
             0.1111111111111111,
             "#46039f"
            ],
            [
             0.2222222222222222,
             "#7201a8"
            ],
            [
             0.3333333333333333,
             "#9c179e"
            ],
            [
             0.4444444444444444,
             "#bd3786"
            ],
            [
             0.5555555555555556,
             "#d8576b"
            ],
            [
             0.6666666666666666,
             "#ed7953"
            ],
            [
             0.7777777777777778,
             "#fb9f3a"
            ],
            [
             0.8888888888888888,
             "#fdca26"
            ],
            [
             1,
             "#f0f921"
            ]
           ],
           "sequentialminus": [
            [
             0,
             "#0d0887"
            ],
            [
             0.1111111111111111,
             "#46039f"
            ],
            [
             0.2222222222222222,
             "#7201a8"
            ],
            [
             0.3333333333333333,
             "#9c179e"
            ],
            [
             0.4444444444444444,
             "#bd3786"
            ],
            [
             0.5555555555555556,
             "#d8576b"
            ],
            [
             0.6666666666666666,
             "#ed7953"
            ],
            [
             0.7777777777777778,
             "#fb9f3a"
            ],
            [
             0.8888888888888888,
             "#fdca26"
            ],
            [
             1,
             "#f0f921"
            ]
           ]
          },
          "colorway": [
           "#636efa",
           "#EF553B",
           "#00cc96",
           "#ab63fa",
           "#FFA15A",
           "#19d3f3",
           "#FF6692",
           "#B6E880",
           "#FF97FF",
           "#FECB52"
          ],
          "font": {
           "color": "#2a3f5f"
          },
          "geo": {
           "bgcolor": "white",
           "lakecolor": "white",
           "landcolor": "#E5ECF6",
           "showlakes": true,
           "showland": true,
           "subunitcolor": "white"
          },
          "hoverlabel": {
           "align": "left"
          },
          "hovermode": "closest",
          "mapbox": {
           "style": "light"
          },
          "paper_bgcolor": "white",
          "plot_bgcolor": "#E5ECF6",
          "polar": {
           "angularaxis": {
            "gridcolor": "white",
            "linecolor": "white",
            "ticks": ""
           },
           "bgcolor": "#E5ECF6",
           "radialaxis": {
            "gridcolor": "white",
            "linecolor": "white",
            "ticks": ""
           }
          },
          "scene": {
           "xaxis": {
            "backgroundcolor": "#E5ECF6",
            "gridcolor": "white",
            "gridwidth": 2,
            "linecolor": "white",
            "showbackground": true,
            "ticks": "",
            "zerolinecolor": "white"
           },
           "yaxis": {
            "backgroundcolor": "#E5ECF6",
            "gridcolor": "white",
            "gridwidth": 2,
            "linecolor": "white",
            "showbackground": true,
            "ticks": "",
            "zerolinecolor": "white"
           },
           "zaxis": {
            "backgroundcolor": "#E5ECF6",
            "gridcolor": "white",
            "gridwidth": 2,
            "linecolor": "white",
            "showbackground": true,
            "ticks": "",
            "zerolinecolor": "white"
           }
          },
          "shapedefaults": {
           "line": {
            "color": "#2a3f5f"
           }
          },
          "ternary": {
           "aaxis": {
            "gridcolor": "white",
            "linecolor": "white",
            "ticks": ""
           },
           "baxis": {
            "gridcolor": "white",
            "linecolor": "white",
            "ticks": ""
           },
           "bgcolor": "#E5ECF6",
           "caxis": {
            "gridcolor": "white",
            "linecolor": "white",
            "ticks": ""
           }
          },
          "title": {
           "x": 0.05
          },
          "xaxis": {
           "automargin": true,
           "gridcolor": "white",
           "linecolor": "white",
           "ticks": "",
           "title": {
            "standoff": 15
           },
           "zerolinecolor": "white",
           "zerolinewidth": 2
          },
          "yaxis": {
           "automargin": true,
           "gridcolor": "white",
           "linecolor": "white",
           "ticks": "",
           "title": {
            "standoff": 15
           },
           "zerolinecolor": "white",
           "zerolinewidth": 2
          }
         }
        },
        "title": {
         "text": "Classificação"
        },
        "width": 800
       }
      }
     },
     "metadata": {},
     "output_type": "display_data"
    }
   ],
   "source": [
    "#criar grafico 3d interativo\n",
    "colors = ['red' if y == -1 else 'blue' for y in yhat]\n",
    "\n",
    "#criar malha para o hiperplano\n",
    "x1_range = np.linspace(x[:, 0].min() - 0.5, x[:, 0].max() + 0.5, 20)\n",
    "x2_range = np.linspace(x[:, 1].min() - 0.5, x[:, 1].max() + 0.5, 20)\n",
    "x1_grid, x2_grid = np.meshgrid(x1_range, x2_range)\n",
    "\n",
    "#calcular x3 para o hiperplano: w0*x1 + w1*x2 + w2*x3 + w3*(-1) = 0\n",
    "#x3 = (w0*x1 + w1*x2 - w3) / (-w2)\n",
    "x3_grid = (w[0] * x1_grid + w[1] * x2_grid - w[3]) / (-w[2])\n",
    "\n",
    "fig = go.Figure()\n",
    "\n",
    "#adicionar o hiperplano\n",
    "fig.add_trace(go.Surface(\n",
    "   x=x1_grid,\n",
    "   y=x2_grid,\n",
    "   z=x3_grid,\n",
    "   colorscale='gray',\n",
    "   opacity=0.3,\n",
    "   showscale=False,\n",
    "   name='Hiperplano'\n",
    "))\n",
    "\n",
    "#adicionar os pontos\n",
    "fig.add_trace(go.Scatter3d(\n",
    "   x=x[:, 0],\n",
    "   y=x[:, 1],\n",
    "   z=x[:, 2],\n",
    "   mode='markers',\n",
    "   marker=dict(\n",
    "      size=8,\n",
    "      color=colors,\n",
    "      opacity=0.8,\n",
    "      line=dict(width=1, color='white')\n",
    "   ),\n",
    "   name='Amostras'\n",
    "))\n",
    "\n",
    "fig.update_layout(\n",
    "   title='Classificação',\n",
    "   scene=dict(\n",
    "      xaxis_title='x1',\n",
    "      yaxis_title='x2',\n",
    "      zaxis_title='x3'\n",
    "   ),\n",
    "   width=800,\n",
    "   height=600\n",
    ")\n",
    "\n",
    "fig.show()"
   ]
  }
 ],
 "metadata": {
  "kernelspec": {
   "display_name": "RNA",
   "language": "python",
   "name": "python3"
  },
  "language_info": {
   "codemirror_mode": {
    "name": "ipython",
    "version": 3
   },
   "file_extension": ".py",
   "mimetype": "text/x-python",
   "name": "python",
   "nbconvert_exporter": "python",
   "pygments_lexer": "ipython3",
   "version": "3.12.11"
  }
 },
 "nbformat": 4,
 "nbformat_minor": 5
}
